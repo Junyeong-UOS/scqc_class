{
 "cells": [
  {
   "cell_type": "code",
   "execution_count": 75,
   "id": "fc021873-2f47-4ff1-a890-51ea33bf2c27",
   "metadata": {},
   "outputs": [],
   "source": [
    "from bs4 import BeautifulSoup\n",
    "import requests\n",
    "import os\n",
    "import urllib"
   ]
  },
  {
   "cell_type": "code",
   "execution_count": 37,
   "id": "5298fb67-204b-4c76-b45a-edf09a18445b",
   "metadata": {},
   "outputs": [],
   "source": [
    "URL = 'https://movie.naver.com/movie/sdb/rank/rmovie.naver'\n",
    "res = requests.get(URL)"
   ]
  },
  {
   "cell_type": "code",
   "execution_count": 64,
   "id": "9b64f221-0f64-4da1-9c6c-cbaaa255be69",
   "metadata": {},
   "outputs": [],
   "source": [
    "soup = BeautifulSoup(res.content, 'html.parser')\n",
    "data = []\n",
    "\n",
    "for item in soup.find_all('td', 'title'):\n",
    "    data.append(item.text.strip())"
   ]
  },
  {
   "cell_type": "code",
   "execution_count": 65,
   "id": "8f9ebabe-25e6-47de-b3bb-0b22e8480fad",
   "metadata": {},
   "outputs": [
    {
     "name": "stdout",
     "output_type": "stream",
     "text": [
      "['교섭', '더 퍼스트 슬램덩크', '메간', '유령', '바빌론', '아바타: 물의 길', '영웅', '상견니', '천룡팔부: 교봉전', '오늘 밤, 세계에서 이 사랑이 사라진다 해도', '올빼미', '정이', '관계의 일변', '다음 소희', '새비지 맨', '장화신은 고양이: 끝내주는 모험', '타이타닉', '이마 베프', '애프터썬', '스위치', '앤트맨과 와스프: 퀀텀매니아', '세이레', '블랙 팬서: 와칸다 포에버', '생각 그런거 없는데요', '단순한 열정', '대외비', '에브리씽 에브리웨어 올 앳 원스', '카운트', '라일 라일 크로커다일', '어쩌면 우린 헤어졌는지 모른다', '400번의 구타', '엄마의 땅: 그리샤와 숲의 주인', '3000년의 기다림', '서치 2', '탑건: 매버릭', '열여덟, 어른이 되는 나이', '스즈메의 문단속', '데시벨', '멍뭉이', '더 메뉴', '캐리와 슈퍼콜라', '던전 앤 드래곤: 도적들의 명예', '몬스터 하우스2: 인비져블 피닉스', '라인', '젠틀맨', '트윈', '소울메이트', '쥴 앤 짐', '방탄소년단: 옛 투 컴 인 시네마', '돌핀보이']\n"
     ]
    }
   ],
   "source": [
    "print(data)"
   ]
  },
  {
   "cell_type": "code",
   "execution_count": 66,
   "id": "d18d22c0-7dab-4726-9a3c-e8042681464e",
   "metadata": {},
   "outputs": [],
   "source": [
    "import csv\n",
    "\n",
    "filename = \"네이버_영화_순위.csv\"\n",
    "f = open(filename, \"w\", encoding=\"utf-8-sig\", newline=\"\")\n",
    "writer = csv.writer(f)\n",
    "i = 1\n",
    "for item in data:\n",
    "    writer.writerow([i, item])\n",
    "    i += 1\n",
    "f.close()"
   ]
  },
  {
   "cell_type": "code",
   "execution_count": null,
   "id": "6327f7bd-5129-4592-9839-09f5d3521ec1",
   "metadata": {},
   "outputs": [],
   "source": [
    "pip install konlpy wordcloud"
   ]
  },
  {
   "cell_type": "code",
   "execution_count": 76,
   "id": "0e5f7081-d51e-4539-9803-87670cce82d2",
   "metadata": {},
   "outputs": [
    {
     "name": "stdout",
     "output_type": "stream",
     "text": [
      "Collecting package metadata (current_repodata.json): done\n",
      "Solving environment: failed with initial frozen solve. Retrying with flexible solve.\n",
      "Collecting package metadata (repodata.json): done\n",
      "Solving environment: failed with initial frozen solve. Retrying with flexible solve.\n",
      "\n",
      "PackagesNotFoundError: The following packages are not available from current channels:\n",
      "\n",
      "  - konlpy\n",
      "\n",
      "Current channels:\n",
      "\n",
      "  - https://repo.anaconda.com/pkgs/main/osx-64\n",
      "  - https://repo.anaconda.com/pkgs/main/noarch\n",
      "  - https://repo.anaconda.com/pkgs/r/osx-64\n",
      "  - https://repo.anaconda.com/pkgs/r/noarch\n",
      "\n",
      "To search for alternate channels that may provide the conda package you're\n",
      "looking for, navigate to\n",
      "\n",
      "    https://anaconda.org\n",
      "\n",
      "and use the search bar at the top of the page.\n",
      "\n",
      "\n"
     ]
    }
   ],
   "source": [
    "!conda install konlpy"
   ]
  },
  {
   "cell_type": "code",
   "execution_count": null,
   "id": "9b768f67-b351-413e-8add-472461855bad",
   "metadata": {},
   "outputs": [],
   "source": [
    "!conda install -c conda-forge jpype1"
   ]
  },
  {
   "cell_type": "code",
   "execution_count": null,
   "id": "7d6c3a29-2dbc-4250-b5b0-78f7075446f5",
   "metadata": {},
   "outputs": [],
   "source": []
  },
  {
   "cell_type": "code",
   "execution_count": null,
   "id": "906accd2-63c6-4284-a223-7f56b18893a0",
   "metadata": {},
   "outputs": [],
   "source": []
  },
  {
   "cell_type": "code",
   "execution_count": null,
   "id": "4e23f197-8cb1-48cb-9bc9-8f775f21a699",
   "metadata": {},
   "outputs": [],
   "source": []
  },
  {
   "cell_type": "code",
   "execution_count": null,
   "id": "5f9961bc-8218-4c6d-ae28-3d0830587b20",
   "metadata": {},
   "outputs": [],
   "source": []
  },
  {
   "cell_type": "code",
   "execution_count": 23,
   "id": "48769a94-f97d-487e-8aea-85f4056edf86",
   "metadata": {},
   "outputs": [],
   "source": [
    "from bs4 import BeautifulSoup\n",
    "import requests\n",
    "from urllib import parse\n",
    "import re\n",
    "import csv\n",
    "\n",
    "def get_data(keywords, page):\n",
    "    start_page = (page - 1 ) * 10 + 1\n",
    "    keyword_encoded = \"\"\n",
    "    for i in range(len(keywords)):\n",
    "        keyword_encoded = keyword_encoded + parse.quote(keywords[i])\n",
    "\n",
    "    url = f'https://search.naver.com/search.naver?where=news&sm=tab_pge&query={keyword_encoded}&sort=0&photo=0&field=0&pd=0&ds=&de=&cluster_rank=17&mynews=0&office_type=0&office_section_code=0&news_office_checked=&nso=so:r,p:all,a:all&start={start}'\n",
    "    raw = requests.get(url, headers={'User-Agent': 'Mozilla/5.0 (X11; Linux x86_64) AppleWebKit/537.36 (KHTML, like Gecko) Chrome/51.0.2704.103 Safari/537.36'})\n",
    "    html = BeautifulSoup(raw.text, \"html.parser\")\n",
    "    return url\n"
   ]
  },
  {
   "cell_type": "code",
   "execution_count": 32,
   "id": "09d0cb77-b8b2-4710-9efe-50fadb788f3d",
   "metadata": {},
   "outputs": [],
   "source": [
    "def get_data(keywords, page):\n",
    "    start_page = (page - 1 ) * 10 + 1\n",
    "    keyword_encoded = \"\"\n",
    "    for i in range(len(keywords)):\n",
    "        keyword_encoded = keyword_encoded + \"+\" + parse.quote(keywords[i])\n",
    "\n",
    "    url = f'https://search.naver.com/search.naver?where=news&sm=tab_pge&query={keyword_encoded}&sort=0&photo=0&field=0&pd=0&ds=&de=&cluster_rank=17&mynews=0&office_type=0&office_section_code=0&news_office_checked=&nso=so:r,p:all,a:all&start={start_page}'\n",
    "    raw = requests.get(url, headers={'User-Agent': 'Mozilla/5.0 (X11; Linux x86_64) AppleWebKit/537.36 (KHTML, like Gecko) Chrome/51.0.2704.103 Safari/537.36'})\n",
    "    html = BeautifulSoup(raw.text, \"html.parser\")\n",
    "    return url\n"
   ]
  },
  {
   "cell_type": "code",
   "execution_count": 33,
   "id": "9e1975c2-2505-450e-affd-bc8312a4e2ac",
   "metadata": {},
   "outputs": [
    {
     "data": {
      "text/plain": [
       "'https://search.naver.com/search.naver?where=news&sm=tab_pge&query=+e+3&sort=0&photo=0&field=0&pd=0&ds=&de=&cluster_rank=17&mynews=0&office_type=0&office_section_code=0&news_office_checked=&nso=so:r,p:all,a:all&start=31'"
      ]
     },
     "execution_count": 33,
     "metadata": {},
     "output_type": "execute_result"
    }
   ],
   "source": [
    "get_data([\"e\",\"3\"],4)"
   ]
  },
  {
   "cell_type": "code",
   "execution_count": null,
   "id": "be20daff-ce8a-44a9-9716-e02e3d263788",
   "metadata": {},
   "outputs": [],
   "source": [
    "https://search.naver.com/search.naver?where=news&sm=tab_pge&query=e3&sort=0&photo=0&field=0&pd=0&ds=&de=&cluster_rank=17&mynews=0&office_type=0&office_section_code=0&news_office_checked=&nso=so:r,p:all,a:all&start=31"
   ]
  },
  {
   "cell_type": "code",
   "execution_count": null,
   "id": "0829322b-b56a-449b-81cd-e81454cd7ac9",
   "metadata": {},
   "outputs": [],
   "source": [
    "https://search.naver.com/search.naver?sm=tab_hty.top&where=news&query=e%2C+3&oquery=e+3&tqi=h9Vizwp0Jy0ssSnSu9Cssssssn4-239010&nso=so%3Ar%2Cp%3Aall%2Ca%3Aall&mynews=0&office_section_code=0&office_type=0&pd=0&photo=0&sort=0"
   ]
  }
 ],
 "metadata": {
  "kernelspec": {
   "display_name": "Python 3 (ipykernel)",
   "language": "python",
   "name": "python3"
  },
  "language_info": {
   "codemirror_mode": {
    "name": "ipython",
    "version": 3
   },
   "file_extension": ".py",
   "mimetype": "text/x-python",
   "name": "python",
   "nbconvert_exporter": "python",
   "pygments_lexer": "ipython3",
   "version": "3.9.7"
  }
 },
 "nbformat": 4,
 "nbformat_minor": 5
}
